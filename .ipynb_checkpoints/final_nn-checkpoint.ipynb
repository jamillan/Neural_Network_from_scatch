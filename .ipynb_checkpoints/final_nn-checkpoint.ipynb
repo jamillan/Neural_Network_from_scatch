{
 "cells": [
  {
   "cell_type": "code",
   "execution_count": 5,
   "metadata": {
    "collapsed": false
   },
   "outputs": [],
   "source": [
    "import math\n",
    "import numpy as np "
   ]
  },
  {
   "cell_type": "code",
   "execution_count": 1,
   "metadata": {
    "collapsed": false
   },
   "outputs": [],
   "source": [
    "\n",
    "from matplotlib import pyplot as plt\n",
    "import time"
   ]
  },
  {
   "cell_type": "markdown",
   "metadata": {},
   "source": [
    "##Neural Network \n",
    "\n",
    "This is a simple neural network with one hidden that will be train to identify number digits. The workflow can \n",
    "be outlined as follow:\n",
    "\n",
    "(1) First the target digits are created as shown below.\n",
    "\n",
    "(2) A neural network class is created that allowed me to create a dense (1 hidden layer) neural network that uses the sigmoid function as poutput for the neurons.\n",
    "\n",
    "(3) Then we  play a bit with the neural network. We test its limitations, and try to understand the activation of neurons."
   ]
  },
  {
   "cell_type": "code",
   "execution_count": 2,
   "metadata": {
    "collapsed": false
   },
   "outputs": [],
   "source": [
    "\n",
    "\"\"\"\n",
    "\n",
    "#######\n",
    "#.....#\n",
    "#.....#\n",
    "#.....#\n",
    "#.....#\n",
    "#.....#\n",
    "#######\n",
    "\n",
    "\"\"\"\n",
    "\n",
    "zero_digit = [1,1,1,1,1,1,1,           \n",
    "              1,0,0,0,0,0,1,           \n",
    "              1,0,0,0,0,0,1,           \n",
    "              1,0,0,0,0,0,1,\n",
    "              1,0,0,0,0,0,1,\n",
    "              1,0,0,0,0,0,1,\n",
    "              1,1,1,1,1,1,1];\n",
    "\n",
    "\"\"\"\n",
    "...#...\n",
    "...#...\n",
    "...#...\n",
    "...#...\n",
    "...#...\n",
    "...#...\n",
    "...#...\n",
    "\n",
    "\n",
    "\"\"\"\n",
    "\n",
    "one_digit = [0,0,0,1,0,0,0,\n",
    "             0,0,0,1,0,0,0,\n",
    "             0,0,0,1,0,0,0,\n",
    "             0,0,0,1,0,0,0,\n",
    "             0,0,0,1,0,0,0,\n",
    "             0,0,0,1,0,0,0,\n",
    "             0,0,0,1,0,0,0\n",
    "             ];\n",
    "\n",
    "\"\"\"\n",
    "#######\n",
    "......#\n",
    "......#\n",
    "#######\n",
    "#......\n",
    "#......\n",
    "#######\n",
    "\n",
    "\n",
    "\"\"\"\n",
    "\n",
    "two_digit = [1,1,1,1,1,1,1,\n",
    "             0,0,0,0,0,0,1,\n",
    "             0,0,0,0,0,0,1,\n",
    "             1,1,1,1,1,1,1,\n",
    "             1,0,0,0,0,0,0,\n",
    "             1,0,0,0,0,0,0,\n",
    "             1,1,1,1,1,1,1];\n",
    "\n",
    "\"\"\"\n",
    "#######\n",
    "......#\n",
    "......#\n",
    "#######\n",
    "......#\n",
    "......#\n",
    "#######\n",
    "\n",
    "\n",
    "\"\"\"\n",
    "\n",
    "\n",
    "\n",
    "three_digit = [1,1,1,1,1,1,1,\n",
    "               0,0,0,0,0,0,1,\n",
    "               0,0,0,0,0,0,1,\n",
    "               1,1,1,1,1,1,1,\n",
    "               0,0,0,0,0,0,1,\n",
    "               0,0,0,0,0,0,1,\n",
    "               1,1,1,1,1,1,1]\n",
    "\n",
    "\"\"\"\n",
    "#.....#\n",
    "#.....#\n",
    "#.....#\n",
    "#######\n",
    "......#\n",
    "......#\n",
    "......#\n",
    "\n",
    "\"\"\"\n",
    "               \n",
    "\n",
    "four_digit  = [1,0,0,0,0,0,1,\n",
    "               1,0,0,0,0,0,1,\n",
    "               1,0,0,0,0,0,1,\n",
    "               1,1,1,1,1,1,1,\n",
    "               0,0,0,0,0,0,1,\n",
    "               0,0,0,0,0,0,1,\n",
    "               0,0,0,0,0,0,1];\n",
    "\n",
    "\"\"\"\n",
    "#######\n",
    "#......\n",
    "#......\n",
    "#######\n",
    "......#\n",
    "......#\n",
    "#######\n",
    "\n",
    "\"\"\"\n",
    "\n",
    "five_digit  = [1,1,1,1,1,1,1,\n",
    "               1,0,0,0,0,0,0,\n",
    "               1,0,0,0,0,0,0,\n",
    "               1,1,1,1,1,1,1,\n",
    "               0,0,0,0,0,0,1,\n",
    "               0,0,0,0,0,0,1,\n",
    "               1,1,1,1,1,1,1];\n",
    "\n",
    "\"\"\"\n",
    "#######\n",
    "#......\n",
    "#......\n",
    "#######\n",
    "#.....#\n",
    "#.....#\n",
    "#######\n",
    "\n",
    "\"\"\"\n",
    "\n",
    "six_digit   = [1,1,1,1,1,1,1,\n",
    "               1,0,0,0,0,0,0,\n",
    "               1,0,0,0,0,0,0,\n",
    "               1,1,1,1,1,1,1,\n",
    "               1,0,0,0,0,0,1,\n",
    "               1,0,0,0,0,0,1,\n",
    "               1,1,1,1,1,1,1];\n",
    "\n",
    "\"\"\"\n",
    "#######\n",
    "......#\n",
    "......#\n",
    "......#\n",
    "......#\n",
    "......#\n",
    "......#\n",
    "\"\"\"\n",
    "\n",
    "seven_digit   = [1,1,1,1,1,1,1,\n",
    "                 0,0,0,0,0,0,1,\n",
    "                 0,0,0,0,0,0,1,\n",
    "                 0,0,0,0,0,0,1,\n",
    "                 0,0,0,0,0,0,1,\n",
    "                 0,0,0,0,0,0,1,\n",
    "                 0,0,0,0,0,0,1];\n",
    "\n",
    "\n",
    "\"\"\"\n",
    "#######\n",
    "#.....#\n",
    "#.....#\n",
    "#######\n",
    "#.....#\n",
    "#.....#\n",
    "#######\n",
    "\n",
    "\"\"\"\n",
    "\n",
    "eight_digit   = [1,1,1,1,1,1,1,\n",
    "                 1,0,0,0,0,0,1,\n",
    "                 1,0,0,0,0,0,1,\n",
    "                 1,1,1,1,1,1,1,\n",
    "                 1,0,0,0,0,0,1,\n",
    "                 1,0,0,0,0,0,1,\n",
    "                 1,1,1,1,1,1,1];\n",
    "\n",
    "\"\"\"\n",
    "#######\n",
    "#.....#\n",
    "#.....#\n",
    "#######\n",
    "......#\n",
    "......#\n",
    "......#\n",
    "\n",
    "\"\"\"\n",
    "\n",
    "\n",
    "nine_digit    = [1,1,1,1,1,1,1,\n",
    "                 1,0,0,0,0,0,1,\n",
    "                 1,0,0,0,0,0,1,\n",
    "                 1,1,1,1,1,1,1,\n",
    "                 0,0,0,0,0,0,1,\n",
    "                 0,0,0,0,0,0,1,\n",
    "                 1,1,1,1,1,1,1];\n",
    "\n",
    "\n",
    "\n",
    "              \n",
    "inputs = [zero_digit,one_digit,two_digit,three_digit,four_digit,five_digit,six_digit,seven_digit,eight_digit,nine_digit]\n"
   ]
  },
  {
   "cell_type": "code",
   "execution_count": 17,
   "metadata": {
    "collapsed": true
   },
   "outputs": [],
   "source": [
    "# sigmoid function\n",
    "def sigmoid(t):\n",
    "    return 1.0 / (1.0 +math.exp(-t))\n",
    "\n",
    "#derivative of simoid funtion\n",
    "def der_sigmoid(t):\n",
    "    return (t)*(1.0 - t)\n",
    "\n",
    "\n",
    "#  RELU function\n",
    "def relu(t):\n",
    "    return t if t >= 0 else  0 ;\n",
    "# Derivative of RELU function\n",
    "def der_relu(t):\n",
    "    return 1 if t >= 0 else  0 ;"
   ]
  },
  {
   "cell_type": "code",
   "execution_count": 8,
   "metadata": {
    "collapsed": false
   },
   "outputs": [],
   "source": [
    "targets = [[1 if i == j else 0 for i in range(10)] \n",
    "        for j in range(10)]\n",
    "\n"
   ]
  },
  {
   "cell_type": "code",
   "execution_count": 9,
   "metadata": {
    "collapsed": false
   },
   "outputs": [
    {
     "data": {
      "text/plain": [
       "49"
      ]
     },
     "execution_count": 9,
     "metadata": {},
     "output_type": "execute_result"
    }
   ],
   "source": [
    "len(inputs[0])"
   ]
  },
  {
   "cell_type": "code",
   "execution_count": 10,
   "metadata": {
    "collapsed": false
   },
   "outputs": [],
   "source": [
    "\n",
    "np.random.seed(10) # randomization for reproducibility\n",
    "input_size= 49;    # dimensions of inputs \n",
    "num_hidden = 7 ;   # number of neurons in the hidden layer\n",
    "output_size = 10;  # dimension of outputs per single input"
   ]
  },
  {
   "cell_type": "code",
   "execution_count": 26,
   "metadata": {
    "collapsed": false
   },
   "outputs": [],
   "source": [
    "\n",
    "#each hiddeneuron has one weight per input and a bias\n",
    "\n",
    "hidden_layer =[[np.random.random() for __ in range(input_size +1)]\n",
    "               for __ in range(num_hidden)]\n",
    "\n"
   ]
  },
  {
   "cell_type": "code",
   "execution_count": 27,
   "metadata": {
    "collapsed": false
   },
   "outputs": [],
   "source": [
    "output_layer = [[np.random.random() for __ in range(num_hidden + 1)] for __ in range(output_size)]"
   ]
  },
  {
   "cell_type": "code",
   "execution_count": 28,
   "metadata": {
    "collapsed": false
   },
   "outputs": [],
   "source": [
    "network = [hidden_layer,output_layer]"
   ]
  },
  {
   "cell_type": "code",
   "execution_count": 94,
   "metadata": {
    "collapsed": false
   },
   "outputs": [
    {
     "name": "stdout",
     "output_type": "stream",
     "text": [
      "69.7815899849\n",
      "done\n"
     ]
    }
   ],
   "source": [
    "\n",
    "start = time.time()\n",
    "\n",
    "end = time.time()\n",
    "\n",
    "for __ in range(10000):\n",
    "    for input_vector, target_vector in zip(inputs,targets):\n",
    "        backpropagate(network,input_vector,target_vector) ; \n",
    "end = time.time()\n",
    "print(end - start)\n",
    "print(\"done\")\n"
   ]
  },
  {
   "cell_type": "code",
   "execution_count": 95,
   "metadata": {
    "collapsed": false
   },
   "outputs": [],
   "source": [
    "\n",
    "def predict(input):\n",
    "    return feed_forward(network,input)[-1]"
   ]
  },
  {
   "cell_type": "code",
   "execution_count": 96,
   "metadata": {
    "collapsed": false,
    "scrolled": true
   },
   "outputs": [
    {
     "name": "stdout",
     "output_type": "stream",
     "text": [
      "0\n",
      "1\n",
      "2\n",
      "3\n",
      "4\n",
      "5\n",
      "3\n",
      "7\n",
      "8\n",
      "9\n"
     ]
    }
   ],
   "source": [
    "for j in range(10):\n",
    "    number = np.argmax(np.array(predict(inputs[j])))\n",
    "    print(number)"
   ]
  },
  {
   "cell_type": "code",
   "execution_count": 33,
   "metadata": {
    "collapsed": false
   },
   "outputs": [],
   "source": [
    "class dense_nn():\n",
    "    def __init__(self,inputs=None,target=None, neural_network_layers= None,activation = \"sigmoid\"):\n",
    "        self.trained = False;              #Flag to check if Neural Network is trained\n",
    "        self.neural_network_set = False;   #Flag to check if Neural Network is setup\n",
    "        self.inputs_set = False;           #Flag to check if inputs have been parsed\n",
    "        self.targets_set =False;           #Flag to check if outputs have been parsed\n",
    "        self.inputs = inputs;              #inputs of Neural Network\n",
    "        self.targets = targets;            #Targets\n",
    "        self.neural_network = neural_network_layers; # Neural Networks contains weighs for each Neuron\n",
    "        self._rms_errors = [] ;            # Error list  to find optimal plotting\n",
    "        \n",
    "        \n",
    "        # Check if inputs have been parse\n",
    "        if self.inputs != None:\n",
    "            if type(self.inputs) != list:\n",
    "                raise RuntimeError('Inputs have to be of list type')\n",
    "            self.inputs_set =True;\n",
    "            \n",
    "        if self.targets != None:\n",
    "            if type(self.targets) != list:\n",
    "                raise RuntimeError('targets have to be of list type')\n",
    "            self.targets_set =True;\n",
    "            \n",
    "        if self.neural_network != None:\n",
    "            if type(self.neural_network) != list:\n",
    "                raise RuntimeError('Neural Networks have to be of list type')\n",
    "            self.neural_network_set =True;\n",
    "        \n",
    "        \n",
    "        # Pick response variable\n",
    "        \n",
    "        self.activation = activation\n",
    "        if activation == \"sigmoid\":\n",
    "            self._func = sigmoid; \n",
    "            self._der_func = der_sigmoid ;\n",
    "        \n",
    "        if activation == \"relu\":\n",
    "            self._func = relu; \n",
    "            self._der_func = der_relu ;\n",
    "            \n",
    "    #set inputs\n",
    "    def set_inputs(self,_inputs):\n",
    "        if type(_inputs) != list:\n",
    "            print(\"inputs need to be a list type\")\n",
    "            self.inputs_set= False\n",
    "            return\n",
    "        self.inputs = self.inputs;\n",
    "        self.inputs_set = True;\n",
    "        \n",
    "    #set targets\n",
    "    def set_targets(self,_targets):\n",
    "        if type(_targets) != list:\n",
    "            print(\"targets need to be a list type\")\n",
    "            self.targets_set =False;\n",
    "            return\n",
    "        \n",
    "        self.targets = self.targets;\n",
    "        self.targets_set = True;\n",
    "        \n",
    "    def set_neural_network(self,seed=10,input_size=10,num_hidden = 1,output_size=10):\n",
    "        np.random.seed(seed) # randomization for reproducibility\n",
    "        self.input_size= input_size;    # dimensions of inputs \n",
    "        self.num_hidden = num_hidden ;   # number of neurons in the hidden layer\n",
    "        self.output_size = output_size;  # size of output neuron\n",
    "        \n",
    "        if self.num_hidden <1:\n",
    "            print(\"number of neurons in hidden layer is =0 or less\")\n",
    "            print(\"Need to set neural network again\")\n",
    "            return;\n",
    "        \n",
    "        \n",
    "        hidden_layer =[[np.random.random() for __ in range(input_size +1)]\n",
    "               for __ in range(num_hidden)];\n",
    "        \n",
    "        output_layer = [[np.random.random() for __ in range(num_hidden + 1)] for __ in range(output_size)];\n",
    "        \n",
    "        \n",
    "        self.neural_network = [hidden_layer,output_layer]\n",
    "        \n",
    "        self.neural_network_set = True;\n",
    "        \n",
    "        \n",
    "    def get_neural_network(self):\n",
    "        return list(self.neural_network);\n",
    "    \n",
    "    \n",
    "        \n",
    "    def neuron_output(self,weights,inputs,response = 'sigmoid'):\n",
    "        \n",
    "        return self._func(np.dot(weights,inputs))\n",
    "        #if self.activation == 'sigmoid':\n",
    "         #   return sigmoid(np.dot(weights,inputs));\n",
    "    \n",
    "        #if response == 'relu':\n",
    "         #   return relu(np.dot(weights,inputs));\n",
    "    \n",
    "        raise RuntimeError('Need to parse an appropiate activation function')\n",
    "        \n",
    "        \n",
    "    def feed_forward(self, input_vector):\n",
    "        #takes in a neural network and returns the output from forward-propagating the input\n",
    "    \n",
    "        #list that stores the fired signal for each neuron in the neural network hidden and output layers\n",
    "        outputs = [];\n",
    "    \n",
    "        #process one layer at a time \n",
    "        for layer in self.neural_network:\n",
    "            bias_input = input_vector + [1];\n",
    "            output = [self.neuron_output(neuron,bias_input) for neuron in layer]\n",
    "        \n",
    "        \n",
    "            outputs.append(output)\n",
    "            #the input for next layer is the output calculated above\n",
    "            input_vector= output;\n",
    "        \n",
    "        #return all the output/signals for each neuron\n",
    "        return outputs\n",
    "\n",
    "    def backpropagate(self, input_vector,targets,learning_rate=1.0):\n",
    "        \n",
    "        #propagate inputs to get response values for hidden and output layer\n",
    "        hidden_outputs , outputs = self.feed_forward(input_vector)\n",
    "    \n",
    "        # Calculate the weigths correction coefficients for the output layer\n",
    "        output_deltas = [self._der_func(output)* (output - target) for output,target in zip(outputs,targets)]\n",
    "\n",
    "    \n",
    "        #adjust weights for output layer\n",
    "        #loop through each neuron\n",
    "        for i , output_neuron in enumerate(self.neural_network[-1]):\n",
    "            #focus on the ith output layer neuron\n",
    "            #loop throug weights corrections\n",
    "            for j, hidden_output in enumerate(hidden_outputs + [1]):\n",
    "        \n",
    "            #adjust the jth wight based on both\n",
    "            #this neuron delta jth input\n",
    "                output_neuron[j] -=output_deltas[i] * hidden_output * learning_rate;\n",
    "            \n",
    "    \n",
    "    # back propagate errors to hidden layer\n",
    "    \n",
    "        # Now do the same as above for the out hiden layers\n",
    "        # Get correction coeifficients for weights\n",
    "        \n",
    "        hidden_deltas = [self._der_func(hidden_output) * \n",
    "                     np.dot(output_deltas , [n[i] for n in output_layer])\n",
    "                     for i, hidden_output in enumerate(hidden_outputs)]\n",
    "    \n",
    "    \n",
    "    # adjust weights for hidden layer, one neuron at a time\n",
    "\n",
    "        for i, hidden_neuron in enumerate(self.neural_network[0]):\n",
    "            for j, input in enumerate(input_vector + [1]):\n",
    "                hidden_neuron[j]-= hidden_deltas[i] * input * learning_rate\n",
    "                \n",
    "    def get_error(self,current_loop):\n",
    "        #get all RMS after adjusting weights\n",
    "        self_rms_errors = []\n",
    "        g_error = []\n",
    "        #loop through inputs and targets to comute RSM\n",
    "        \n",
    "        for _input,_output in zip(self.inputs,self.targets):\n",
    "            #output layer response after forward propagation\n",
    "            output = self.feed_forward(_input)[1];\n",
    "            #compute error for this input/target\n",
    "            error = np.array(_out) - np.array(_output);\n",
    "            g_error.append(error);\n",
    "        \n",
    "        \n",
    "        \n",
    "        #Now sum all RMS Errors\n",
    "        g_error = np.sum(g_error)\n",
    "        print('loop :{0} || Error : {1} ').format(current_loop,np.sum(g_error**2.0))\n",
    "        self._rms_errors.append(g_error);\n",
    "        \n",
    "        \n",
    "    \n",
    "    def set_up(self):\n",
    "        is_setup = True;\n",
    "        \n",
    "        #check if Neural Network is properly setup\n",
    "        if not self.inputs_set  or not self.targets_set  or not self.neural_network_set:\n",
    "            is_setup = False;\n",
    "        \n",
    "        return is_setup\n",
    "    \n",
    "    def train(self,period=10000,error_period=100,l_rate=0.5):\n",
    "        \n",
    "        #Check Neural Network is properly setup\n",
    "        self.is_setup = self.set_up();\n",
    "        if self.trained == True:\n",
    "            print(\"*** I've been trained already : more training can lead to spurious results\")\n",
    "            return\n",
    "        self._rms_errors = []\n",
    "        \n",
    "        if not self.is_setup:\n",
    "            print(\"Need to set the inputs, targets and neural networks before training \")\n",
    "            return;\n",
    "        \n",
    "        #Calculate Error\n",
    "        for __ in range(period):\n",
    "            \n",
    "            #Propagate the inputs with new adusted weights\n",
    "            \n",
    "            for input_vector, target_vector in zip(self.inputs,self.targets):\n",
    "                self.backpropagate(input_vector,target_vector,learning_rate = l_rate) ;\n",
    "                \n",
    "            #Calculate RMS Error for a given period\n",
    "            if __ % error_period == 0:\n",
    "                    \n",
    "                g_error = []\n",
    "                for _in,_out in zip(inputs,targets):\n",
    "                    output = my_nn.feed_forward(_in)[1];\n",
    "                    error = np.array(_out) - np.array(output);\n",
    "                    g_error.append(error)\n",
    "                        \n",
    "                g_error = np.sum(g_error)\n",
    "                print('loop :{0} || Error : {1} ').format(__,np.sum(g_error**2.0))\n",
    "                self._rms_errors.append(g_error); \n",
    "                \n",
    "        #ok we've been train\n",
    "        self.trained =True;\n",
    "            \n",
    "    #Predicting function\n",
    "    def predict(self,input):\n",
    "        #takes input and return outputs of output layer\n",
    "        \n",
    "        #Check if Neural Network is traind\n",
    "        if self.trained:\n",
    "            return self.feed_forward(input)[-1];\n",
    "        if not self.trained:\n",
    "            print(\"***WARNING Neural Networks has not been trained\")\n",
    "            \n",
    "            return self.feed_forward(input)[-1]\n",
    "    "
   ]
  },
  {
   "cell_type": "code",
   "execution_count": 30,
   "metadata": {
    "collapsed": false
   },
   "outputs": [],
   "source": [
    "my_nn = dense_nn(inputs,targets, network,activation ='sigmoid')"
   ]
  },
  {
   "cell_type": "code",
   "execution_count": 31,
   "metadata": {
    "collapsed": false
   },
   "outputs": [
    {
     "name": "stdout",
     "output_type": "stream",
     "text": [
      "loop :0 || Error : 4606.63402888 \n",
      "loop :5000 || Error : 0.0686278972995 \n"
     ]
    }
   ],
   "source": [
    "my_nn.train(period= 10000,error_period=5000,l_rate= 1.0)"
   ]
  },
  {
   "cell_type": "code",
   "execution_count": 34,
   "metadata": {
    "collapsed": false
   },
   "outputs": [
    {
     "name": "stdout",
     "output_type": "stream",
     "text": [
      "0\n",
      "1\n",
      "2\n",
      "3\n",
      "4\n",
      "5\n",
      "6\n",
      "7\n",
      "8\n",
      "9\n"
     ]
    }
   ],
   "source": [
    "for j in range(10):\n",
    "    number = np.argmax(np.array(my_nn.predict(inputs[j])))\n",
    "    print(number)"
   ]
  },
  {
   "cell_type": "code",
   "execution_count": 147,
   "metadata": {
    "collapsed": false
   },
   "outputs": [],
   "source": [
    "from matplotlib import pyplot as plt\n",
    "import matplotlib\n",
    "%matplotlib inline"
   ]
  },
  {
   "cell_type": "code",
   "execution_count": 67,
   "metadata": {
    "collapsed": false
   },
   "outputs": [],
   "source": [
    "weights =  network[0][0];\n",
    "#get the absolute values of weights\n",
    "abs_weights =  map(abs,weights);\n"
   ]
  },
  {
   "cell_type": "code",
   "execution_count": 68,
   "metadata": {
    "collapsed": false
   },
   "outputs": [
    {
     "data": {
      "image/png": "[encoded data removed]",
      "text/plain": [
       "<matplotlib.figure.Figure at 0x10b33d990>"
      ]
     },
     "metadata": {},
     "output_type": "display_data"
    }
   ],
   "source": [
    "grid = [abs_weights[row:(row+5)] for row in range(0,25,5)]\n",
    "ax = plt.gca();\n",
    "ax.imshow(grid,cmap = matplotlib.cm.binary, interpolation = 'none')\n",
    "\n",
    "def patch(x,y,hatch,color):\n",
    "    \"\"\"return a pathc object with the specified location,crosshatch, and color\"\"\"\n",
    "    return matplotlib.patches.Rectangle((x-0.5,y-0.5),1,1,hatch = hatch,fill=False,color =color);"
   ]
  },
  {
   "cell_type": "code",
   "execution_count": 63,
   "metadata": {
    "collapsed": true
   },
   "outputs": [],
   "source": [
    "for i in range(5):\n",
    "    for j in range(5):\n",
    "        if weights[5*i + j] < 0:\n",
    "            ax.add_patch(patch(j,i,'/','white'))\n",
    "            ax.add_patch(patch(j,i,'\\\\','black'))\n",
    "            \n",
    "    plt.show();\n"
   ]
  },
  {
   "cell_type": "code",
   "execution_count": 71,
   "metadata": {
    "collapsed": false
   },
   "outputs": [
    {
     "data": {
      "image/png": "[encoded data removed]",
      "text/plain": [
       "<matplotlib.figure.Figure at 0x10b334210>"
      ]
     },
     "metadata": {},
     "output_type": "display_data"
    },
    {
     "data": {
      "image/png": "[encoded data removed]",
      "text/plain": [
       "<matplotlib.figure.Figure at 0x10fa4bad0>"
      ]
     },
     "metadata": {},
     "output_type": "display_data"
    },
    {
     "data": {
      "image/png": "[encoded data removed]",
      "text/plain": [
       "<matplotlib.figure.Figure at 0x10b2b2fd0>"
      ]
     },
     "metadata": {},
     "output_type": "display_data"
    },
    {
     "data": {
      "image/png": "[encoded data removed]",
      "text/plain": [
       "<matplotlib.figure.Figure at 0x10b205610>"
      ]
     },
     "metadata": {},
     "output_type": "display_data"
    },
    {
     "data": {
      "image/png": "[encoded data removed]",
      "text/plain": [
       "<matplotlib.figure.Figure at 0x10fac5b10>"
      ]
     },
     "metadata": {},
     "output_type": "display_data"
    }
   ],
   "source": [
    "num_hidden_neurons = len(network[0])\n",
    "\n",
    "def patch(x,y,hatch,color):\n",
    "    \"\"\"return a pathc object with the specified location,crosshatch, and color\"\"\"\n",
    "    return matplotlib.patches.Rectangle((x-0.5,y-0.5),1,1,hatch = hatch,fill=False,color =color);\n",
    "\n",
    "for neuron_id in range(0,num_hidden_neurons):\n",
    "    weights =  network[0][neuron_id];\n",
    "    #get the absolute values of weights\n",
    "    abs_weights =  map(abs,weights);\n",
    "    grid = [abs_weights[row:(row+5)] for row in range(0,25,5)]\n",
    "    ax = plt.gca();\n",
    "    ax.imshow(grid,cmap = matplotlib.cm.binary, interpolation = 'none')\n",
    "\n",
    "    for i in range(5):\n",
    "        for j in range(5):\n",
    "            if weights[5*i + j] < 0:\n",
    "                ax.add_patch(patch(j,i,'/','white'))\n",
    "                ax.add_patch(patch(j,i,'\\\\','black'))\n",
    "            \n",
    "    plt.show();\n",
    "    \n"
   ]
  },
  {
   "cell_type": "code",
   "execution_count": null,
   "metadata": {
    "collapsed": true
   },
   "outputs": [],
   "source": [
    "#Stylish three\n",
    "three_digit = [1,1,1,1,1,1,1,\n",
    "               0,0,0,0,0,0,1,\n",
    "               0,0,0,0,0,0,1,\n",
    "               10,0,1,1,1,1,1,\n",
    "               0,0,0,0,0,0,1,\n",
    "               0,0,0,0,0,0,1,\n",
    "               1,1,1,1,1,1,1]\n",
    "\n",
    "\n",
    "\n",
    "\n",
    "#sStylsh eight\n",
    "\n",
    "\n",
    "\n",
    "stylish_eight_digit   = [0,1,1,1,1,1,0,\n",
    "                 1,0,0,0,0,0,1,\n",
    "                 1,0,0,0,0,0,1,\n",
    "                 0,1,1,1,1,1,0,\n",
    "                 1,0,0,0,0,0,1,\n",
    "                 1,0,0,0,0,0,1,\n",
    "                 0,1,1,1,1,1,0];\n",
    "\n",
    "\n"
   ]
  }
 ],
 "metadata": {
  "kernelspec": {
   "display_name": "Python 2",
   "language": "python",
   "name": "python2"
  },
  "language_info": {
   "codemirror_mode": {
    "name": "ipython",
    "version": 2
   },
   "file_extension": ".py",
   "mimetype": "text/x-python",
   "name": "python",
   "nbconvert_exporter": "python",
   "pygments_lexer": "ipython2",
   "version": "2.7.11"
  }
 },
 "nbformat": 4,
 "nbformat_minor": 0
}
