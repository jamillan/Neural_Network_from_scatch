{
 "cells": [
  {
   "cell_type": "code",
   "execution_count": 5,
   "metadata": {
    "collapsed": false
   },
   "outputs": [],
   "source": [
    "import math\n",
    "import numpy as np "
   ]
  },
  {
   "cell_type": "code",
   "execution_count": 6,
   "metadata": {
    "collapsed": false
   },
   "outputs": [],
   "source": [
    "\n",
    "from matplotlib import pyplot as plt\n",
    "import time"
   ]
  },
  {
   "cell_type": "markdown",
   "metadata": {},
   "source": [
    "##Neural Network \n",
    "\n",
    "This is a simple neural network with one hidden that will be train to identify number digits. The workflow can \n",
    "be outlined as follow:\n",
    "\n",
    "(1) First the target digits are created as shown below.\n",
    "\n",
    "(2) A neural network class is created that allowed me to create a dense (1 hidden layer) neural network that uses the sigmoid function as poutput for the neurons.\n",
    "\n",
    "(3) Then we  play a bit with the neural network. We test its limitations, and try to understand the activation of neurons."
   ]
  },
  {
   "cell_type": "code",
   "execution_count": 30,
   "metadata": {
    "collapsed": false
   },
   "outputs": [],
   "source": [
    "\n",
    "\"\"\"\n",
    "\n",
    "#######\n",
    "#.....#\n",
    "#.....#\n",
    "#.....#\n",
    "#.....#\n",
    "#.....#\n",
    "#######\n",
    "\n",
    "\"\"\"\n",
    "\n",
    "zero_digit = [1,1,1,1,1,1,1,           \n",
    "              1,0,0,0,0,0,1,           \n",
    "              1,0,0,0,0,0,1,           \n",
    "              1,0,0,0,0,0,1,\n",
    "              1,0,0,0,0,0,1,\n",
    "              1,0,0,0,0,0,1,\n",
    "              1,1,1,1,1,1,1];\n",
    "\n",
    "\"\"\"\n",
    "...#...\n",
    "...#...\n",
    "...#...\n",
    "...#...\n",
    "...#...\n",
    "...#...\n",
    "...#...\n",
    "\n",
    "\n",
    "\"\"\"\n",
    "\n",
    "one_digit = [0,0,0,1,0,0,0,\n",
    "             0,0,0,1,0,0,0,\n",
    "             0,0,0,1,0,0,0,\n",
    "             0,0,0,1,0,0,0,\n",
    "             0,0,0,1,0,0,0,\n",
    "             0,0,0,1,0,0,0,\n",
    "             0,0,0,1,0,0,0\n",
    "             ];\n",
    "\n",
    "\"\"\"\n",
    "#######\n",
    "......#\n",
    "......#\n",
    "#######\n",
    "#......\n",
    "#......\n",
    "#######\n",
    "\n",
    "\n",
    "\"\"\"\n",
    "\n",
    "two_digit = [1,1,1,1,1,1,1,\n",
    "             0,0,0,0,0,0,1,\n",
    "             0,0,0,0,0,0,1,\n",
    "             1,1,1,1,1,1,1,\n",
    "             1,0,0,0,0,0,0,\n",
    "             1,0,0,0,0,0,0,\n",
    "             1,1,1,1,1,1,1];\n",
    "\n",
    "\"\"\"\n",
    "#######\n",
    "......#\n",
    "......#\n",
    "#######\n",
    "......#\n",
    "......#\n",
    "#######\n",
    "\n",
    "\n",
    "\"\"\"\n",
    "\n",
    "\n",
    "\n",
    "three_digit = [1,1,1,1,1,1,1,\n",
    "               0,0,0,0,0,0,1,\n",
    "               0,0,0,0,0,0,1,\n",
    "               1,1,1,1,1,1,1,\n",
    "               0,0,0,0,0,0,1,\n",
    "               0,0,0,0,0,0,1,\n",
    "               1,1,1,1,1,1,1]\n",
    "\n",
    "\"\"\"\n",
    "#.....#\n",
    "#.....#\n",
    "#.....#\n",
    "#######\n",
    "......#\n",
    "......#\n",
    "......#\n",
    "\n",
    "\"\"\"\n",
    "               \n",
    "\n",
    "four_digit  = [1,0,0,0,0,0,1,\n",
    "               1,0,0,0,0,0,1,\n",
    "               1,0,0,0,0,0,1,\n",
    "               1,1,1,1,1,1,1,\n",
    "               0,0,0,0,0,0,1,\n",
    "               0,0,0,0,0,0,1,\n",
    "               0,0,0,0,0,0,1];\n",
    "\n",
    "\"\"\"\n",
    "#######\n",
    "#......\n",
    "#......\n",
    "#######\n",
    "......#\n",
    "......#\n",
    "#######\n",
    "\n",
    "\"\"\"\n",
    "\n",
    "five_digit  = [1,1,1,1,1,1,1,\n",
    "               1,0,0,0,0,0,0,\n",
    "               1,0,0,0,0,0,0,\n",
    "               1,1,1,1,1,1,1,\n",
    "               0,0,0,0,0,0,1,\n",
    "               0,0,0,0,0,0,1,\n",
    "               1,1,1,1,1,1,1];\n",
    "\n",
    "\"\"\"\n",
    "#######\n",
    "#......\n",
    "#......\n",
    "#######\n",
    "#.....#\n",
    "#.....#\n",
    "#######\n",
    "\n",
    "\"\"\"\n",
    "\n",
    "six_digit   = [1,1,1,1,1,1,1,\n",
    "               1,0,0,0,0,0,0,\n",
    "               1,0,0,0,0,0,0,\n",
    "               1,1,1,1,1,1,1,\n",
    "               1,0,0,0,0,0,1,\n",
    "               1,0,0,0,0,0,1,\n",
    "               1,1,1,1,1,1,1];\n",
    "\n",
    "\"\"\"\n",
    "#######\n",
    "......#\n",
    "......#\n",
    "......#\n",
    "......#\n",
    "......#\n",
    "......#\n",
    "\"\"\"\n",
    "\n",
    "seven_digit   = [1,1,1,1,1,1,1,\n",
    "                 0,0,0,0,0,0,1,\n",
    "                 0,0,0,0,0,0,1,\n",
    "                 0,0,0,0,0,0,1,\n",
    "                 0,0,0,0,0,0,1,\n",
    "                 0,0,0,0,0,0,1,\n",
    "                 0,0,0,0,0,0,1];\n",
    "\n",
    "\n",
    "\"\"\"\n",
    "#######\n",
    "#.....#\n",
    "#.....#\n",
    "#######\n",
    "#.....#\n",
    "#.....#\n",
    "#######\n",
    "\n",
    "\"\"\"\n",
    "\n",
    "eight_digit   = [1,1,1,1,1,1,1,\n",
    "                 1,0,0,0,0,0,1,\n",
    "                 1,0,0,0,0,0,1,\n",
    "                 1,1,1,1,1,1,1,\n",
    "                 1,0,0,0,0,0,1,\n",
    "                 1,0,0,0,0,0,1,\n",
    "                 1,1,1,1,1,1,1];\n",
    "\n",
    "\"\"\"\n",
    "#######\n",
    "#.....#\n",
    "#.....#\n",
    "#######\n",
    "......#\n",
    "......#\n",
    "......#\n",
    "\n",
    "\"\"\"\n",
    "\n",
    "\n",
    "nine_digit    = [1,1,1,1,1,1,1,\n",
    "                 1,0,0,0,0,0,1,\n",
    "                 1,0,0,0,0,0,1,\n",
    "                 1,1,1,1,1,1,1,\n",
    "                 0,0,0,0,0,0,1,\n",
    "                 0,0,0,0,0,0,1,\n",
    "                 1,1,1,1,1,1,1];\n",
    "\n",
    "\n",
    "\n",
    "              \n",
    "inputs = [zero_digit,one_digit,two_digit,three_digit,four_digit,five_digit,six_digit,seven_digit,eight_digit,nine_digit]\n"
   ]
  },
  {
   "cell_type": "markdown",
   "metadata": {},
   "source": []
  },
  {
   "cell_type": "code",
   "execution_count": 8,
   "metadata": {
    "collapsed": true
   },
   "outputs": [],
   "source": [
    "# sigmoid function\n",
    "def sigmoid(t):\n",
    "    return 1.0 / (1.0 +math.exp(-t))\n",
    "\n",
    "#derivative of simoid funtion\n",
    "def der_sigmoid(t):\n",
    "    return (t)*(1.0 - t)\n",
    "\n",
    "\n",
    "#  RELU function\n",
    "def relu(t):\n",
    "    return t if t >= 0 else  0 ;\n",
    "# Derivative of RELU function\n",
    "def der_relu(t):\n",
    "    return 1 if t >= 0 else  0 ;"
   ]
  },
  {
   "cell_type": "code",
   "execution_count": 31,
   "metadata": {
    "collapsed": false
   },
   "outputs": [],
   "source": [
    "targets = [[1 if i == j else 0 for i in range(10)] \n",
    "        for j in range(10)]\n",
    "\n"
   ]
  },
  {
   "cell_type": "code",
   "execution_count": 10,
   "metadata": {
    "collapsed": false
   },
   "outputs": [
    {
     "data": {
      "text/plain": [
       "49"
      ]
     },
     "execution_count": 10,
     "metadata": {},
     "output_type": "execute_result"
    }
   ],
   "source": [
    "len(inputs[0])"
   ]
  },
  {
   "cell_type": "code",
   "execution_count": 42,
   "metadata": {
    "collapsed": false
   },
   "outputs": [],
   "source": [
    "\n",
    "np.random.seed(10) # randomization for reproducibility\n",
    "input_size= 49;    # dimensions of inputs \n",
    "num_hidden = 12 ;   # number of neurons in the hidden layer\n",
    "output_size = 10;  # dimension of outputs per single input"
   ]
  },
  {
   "cell_type": "code",
   "execution_count": 12,
   "metadata": {
    "collapsed": false
   },
   "outputs": [],
   "source": [
    "\n",
    "#each hiddeneuron has one weight per input and a bias\n",
    "\n",
    "hidden_layer =[[np.random.random() for __ in range(input_size +1)]\n",
    "               for __ in range(num_hidden)]\n",
    "\n",
    "output_layer = [[np.random.random() for __ in range(num_hidden + 1)] for __ in range(output_size)]\n",
    "network = [hidden_layer,output_layer]"
   ]
  },
  {
   "cell_type": "markdown",
   "metadata": {
    "collapsed": false
   },
   "source": [
    "## Neural Network Class\n",
    "\n",
    "This is the class definition of the neural network.\n",
    "It needs neceinformationssary  like inputs, targets to be trained. Neural netowrk weights can be externally setup \n",
    "to be later parse or it can also be randomly initialized."
   ]
  },
  {
   "cell_type": "code",
   "execution_count": 13,
   "metadata": {
    "collapsed": false
   },
   "outputs": [],
   "source": [
    "#A neural Network objects needs at some point Inputs and Target.\n",
    "#It keeps track of its training to avoid overtraing and it case something\n",
    "#is not formally defined it will inform the user about it\n",
    "\n",
    "class dense_nn():\n",
    "    def __init__(self,inputs=None,target=None, neural_network_layers= None,activation = \"sigmoid\"):\n",
    "        \n",
    "        #Flags to keep track of neural network setup evolution\n",
    "        self.trained = False;              #Flag to check if Neural Network is trained\n",
    "        self.neural_network_set = False;   #Flag to check if Neural Network is setup\n",
    "        self.inputs_set = False;           #Flag to check if inputs have been parsed\n",
    "        self.targets_set =False;           #Flag to check if outputs have been parsed\n",
    "        \n",
    "        #Inputs and Outputs contatiners\n",
    "        self.inputs = inputs;              #inputs of Neural Network\n",
    "        self.targets = targets;            #Targets\n",
    "        self.neural_network = neural_network_layers; # Neural Networks contains weighs for each Neuron\n",
    "        self._rms_errors = [] ;            # Error list  to find optimal plotting\n",
    "        \n",
    "        \n",
    "        # Check if inputs have been parsed\n",
    "        if self.inputs != None:\n",
    "            if type(self.inputs) != list:\n",
    "                raise RuntimeError('Inputs have to be of list type')\n",
    "            self.inputs_set =True;\n",
    "            \n",
    "        # Check if Targets have been parsed\n",
    "        if self.targets != None:\n",
    "            if type(self.targets) != list:\n",
    "                raise RuntimeError('targets have to be of list type')\n",
    "            self.targets_set =True;\n",
    "            \n",
    "        # Check if Neural Networks has been parsed\n",
    "        if self.neural_network != None:\n",
    "            if type(self.neural_network) != list:\n",
    "                raise RuntimeError('Neural Networks have to be of list type')\n",
    "            self.neural_network_set =True;\n",
    "        \n",
    "        \n",
    "        # Pick response variable\n",
    "        \n",
    "        self.activation = activation\n",
    "        if activation == \"sigmoid\":\n",
    "            self._func = sigmoid; \n",
    "            self._der_func = der_sigmoid ;\n",
    "        \n",
    "        if activation == \"relu\":\n",
    "            self._func = relu; \n",
    "            self._der_func = der_relu ;\n",
    "            \n",
    "    #Function: set internal inputs\n",
    "    def set_inputs(self,_inputs):\n",
    "        if type(_inputs) != list:\n",
    "            print(\"inputs need to be a list type\")\n",
    "            self.inputs_set= False\n",
    "            return\n",
    "        self.inputs = self.inputs;\n",
    "        self.inputs_set = True;\n",
    "        \n",
    "    #Function: set internal targets\n",
    "    def set_targets(self,_targets):\n",
    "        if type(_targets) != list:\n",
    "            print(\"targets need to be a list type\")\n",
    "            self.targets_set =False;\n",
    "            return\n",
    "        \n",
    "        self.targets = self.targets;\n",
    "        self.targets_set = True;\n",
    "        \n",
    "        \n",
    "    #Sets internal neuron contents\n",
    "    def set_neural_network(self,seed=10,input_size=10,num_hidden = 1,output_size=10):\n",
    "        np.random.seed(seed) # randomization for reproducibility\n",
    "        self.input_size= input_size;    # dimensions of inputs \n",
    "        self.num_hidden = num_hidden ;   # number of neurons in the hidden layer\n",
    "        self.output_size = output_size;  # size of output neuron\n",
    "        \n",
    "        if self.num_hidden <1:\n",
    "            print(\"number of neurons in hidden layer is =0 or less\")\n",
    "            print(\"Need to set neural network again\")\n",
    "            return;\n",
    "        \n",
    "        #Set the neural network weighs\n",
    "        #By rnadomizing them\n",
    "        \n",
    "        hidden_layer =[[np.random.random() for __ in range(input_size +1)]\n",
    "               for __ in range(num_hidden)];\n",
    "        \n",
    "        output_layer = [[np.random.random() for __ in range(num_hidden + 1)] for __ in range(output_size)];\n",
    "        \n",
    "        \n",
    "        self.neural_network = [hidden_layer,output_layer]\n",
    "        \n",
    "        #//<-Neural Network has been set!\n",
    "        self.neural_network_set = True;\n",
    "        \n",
    "    #returns neuron contents \n",
    "    def get_neural_network(self):\n",
    "        return list(self.neural_network);\n",
    "    \n",
    "    \n",
    "    #computes neuron activation/response\n",
    "    def neuron_output(self,weights,inputs,response = 'sigmoid'):\n",
    "        \n",
    "        return self._func(np.dot(weights,inputs))\n",
    "        #if self.activation == 'sigmoid':\n",
    "         #   return sigmoid(np.dot(weights,inputs));\n",
    "    \n",
    "        #if response == 'relu':\n",
    "         #   return relu(np.dot(weights,inputs));\n",
    "    \n",
    "        raise RuntimeError('Need to parse an appropiate activation function')\n",
    "        \n",
    "    #feed forward mechanism\n",
    "    def feed_forward(self, input_vector):\n",
    "        #takes in a neural network and returns the output from forward-propagating the input\n",
    "    \n",
    "        #list that stores the fired signal for each neuron in the neural network hidden and output layers\n",
    "        outputs = [];\n",
    "    \n",
    "        #process one layer at a time \n",
    "        for layer in self.neural_network:\n",
    "            bias_input = input_vector + [1];\n",
    "            output = [self.neuron_output(neuron,bias_input) for neuron in layer]\n",
    "        \n",
    "        \n",
    "            outputs.append(output)\n",
    "            #the input for next layer is the output calculated above\n",
    "            input_vector= output;\n",
    "        \n",
    "        #return all the output/signals for each neuron\n",
    "        return outputs\n",
    "    \n",
    "    #back propagation to adjust weights between neural network layers\n",
    "    \n",
    "    def backpropagate(self, input_vector,targets,learning_rate=1.0):\n",
    "        \n",
    "        #propagate inputs to get response values for hidden and output layer\n",
    "        hidden_outputs , outputs = self.feed_forward(input_vector)\n",
    "    \n",
    "        # Calculate the weigths correction coefficients for the output layer\n",
    "        output_deltas = [self._der_func(output)* (output - target) for output,target in zip(outputs,targets)]\n",
    "\n",
    "    \n",
    "        #adjust weights for output layer\n",
    "        #loop through each neuron\n",
    "        for i , output_neuron in enumerate(self.neural_network[-1]):\n",
    "            #focus on the ith output layer neuron\n",
    "            #loop throug weights corrections\n",
    "            for j, hidden_output in enumerate(hidden_outputs + [1]):\n",
    "        \n",
    "            #adjust the jth wight based on both\n",
    "            #this neuron delta jth input\n",
    "                output_neuron[j] -=output_deltas[i] * hidden_output * learning_rate;\n",
    "            \n",
    "    \n",
    "    # back propagate errors to hidden layer\n",
    "    \n",
    "        # Now do the same as above for the out hiden layers\n",
    "        # Get correction coeifficients for weights\n",
    "        \n",
    "        hidden_deltas = [self._der_func(hidden_output) * \n",
    "                     np.dot(output_deltas , [n[i] for n in output_layer])\n",
    "                     for i, hidden_output in enumerate(hidden_outputs)]\n",
    "    \n",
    "    \n",
    "    # adjust weights for hidden layer, one neuron at a time\n",
    "\n",
    "        for i, hidden_neuron in enumerate(self.neural_network[0]):\n",
    "            for j, input in enumerate(input_vector + [1]):\n",
    "                hidden_neuron[j]-= hidden_deltas[i] * input * learning_rate\n",
    "    \n",
    "    #Function to get errors for RMS during training\n",
    "    def get_error(self,current_loop):\n",
    "        #get all RMS after adjusting weights\n",
    "        self_rms_errors = []\n",
    "        g_error = []\n",
    "        #loop through inputs and targets to comute RSM\n",
    "        \n",
    "        for _input,_output in zip(self.inputs,self.targets):\n",
    "            #output layer response after forward propagation\n",
    "            output = self.feed_forward(_input)[1];\n",
    "            #compute error for this input/target\n",
    "            error = np.array(_out) - np.array(_output);\n",
    "            g_error.append(error);\n",
    "        \n",
    "        \n",
    "        \n",
    "        #Now sum all RMS Errors\n",
    "        g_error = np.sum(g_error)\n",
    "        print('loop :{0} || Error : {1} ').format(current_loop,np.sum(g_error**2.0))\n",
    "        self._rms_errors.append(g_error);\n",
    "        \n",
    "        \n",
    "    #/Internal Use : Check if neural network has been setup\n",
    "    def set_up(self):\n",
    "        is_setup = True;\n",
    "        \n",
    "        #check if Neural Network is properly setup\n",
    "        if not self.inputs_set  or not self.targets_set  or not self.neural_network_set:\n",
    "            is_setup = False;\n",
    "        \n",
    "        return is_setup\n",
    "    \n",
    "    #Training function. It takes the following arguments \n",
    "    #/period :number of epochs\n",
    "    #/error_period: period to print out current RMS error\n",
    "    #/l_rate learning rate\n",
    "    \n",
    "    def train(self,period=10000,error_period=100,l_rate=0.5):\n",
    "        \n",
    "        #Check Neural Network is properly setup\n",
    "        self.is_setup = self.set_up();\n",
    "        if self.trained == True:\n",
    "            print(\"*** I've been trained already : more training can lead to spurious results\")\n",
    "            return\n",
    "        self._rms_errors = []\n",
    "        \n",
    "        if not self.is_setup:\n",
    "            print(\"Need to set the inputs, targets and neural networks before training \")\n",
    "            return;\n",
    "        \n",
    "        #Calculate Error\n",
    "        for __ in range(period):\n",
    "            \n",
    "            #Propagate the inputs with new adusted weights\n",
    "            \n",
    "            for input_vector, target_vector in zip(self.inputs,self.targets):\n",
    "                self.backpropagate(input_vector,target_vector,learning_rate = l_rate) ;\n",
    "                \n",
    "            #Calculate RMS Error for a given period\n",
    "            if __ % error_period == 0:\n",
    "                    \n",
    "                g_error = [];\n",
    "                \n",
    "                #Compute the square differences between output and target values\n",
    "                for _in,_out in zip(inputs,targets):\n",
    "                    \n",
    "                    #get output of neuron layer for input _in_\n",
    "                    output = my_nn.feed_forward(_in)[1];\n",
    "                    \n",
    "                    #now  get error difference between output and target and store it\n",
    "                    error = np.array(_out) - np.array(output);\n",
    "                    g_error.append(error)\n",
    "                \n",
    "                #sum square of errors\n",
    "                g_error = np.sum(g_error)\n",
    "                print('loop :{0} || Error : {1} ').format(__,np.sum(g_error**2.0))\n",
    "                self._rms_errors.append(g_error); \n",
    "                \n",
    "        #ok we've been train\n",
    "        self.trained =True;\n",
    "        print(\"************Training Success***********************\")\n",
    "            \n",
    "    #Predicting function\n",
    "    #it takes an input signal and outputs the output of the putput layer/neuron\n",
    "    def predict(self,input):\n",
    "        #takes input and return outputs of output layer\n",
    "        \n",
    "        #Check if Neural Network is traind\n",
    "        if self.trained:\n",
    "            return self.feed_forward(input)[-1];\n",
    "        if not self.trained:\n",
    "            print(\"***WARNING Neural Networks has not been trained\")\n",
    "            print(\" \")\n",
    "            print(\"***Throw me some digits************************\")\n",
    "            \n",
    "            return self.feed_forward(input)[-1]\n",
    "    "
   ]
  },
  {
   "cell_type": "markdown",
   "metadata": {},
   "source": [
    "#Let's create an neural network with inputs and targets as defined above\n",
    "    "
   ]
  },
  {
   "cell_type": "code",
   "execution_count": 25,
   "metadata": {
    "collapsed": false
   },
   "outputs": [],
   "source": [
    "my_nn = dense_nn(inputs,targets, network,activation ='sigmoid')"
   ]
  },
  {
   "cell_type": "markdown",
   "metadata": {},
   "source": [
    "#Let's train or new neural network"
   ]
  },
  {
   "cell_type": "code",
   "execution_count": 26,
   "metadata": {
    "collapsed": false
   },
   "outputs": [
    {
     "name": "stdout",
     "output_type": "stream",
     "text": [
      "loop :0 || Error : 6866.23100884 \n",
      "loop :5000 || Error : 0.555890502254 \n",
      "loop :10000 || Error : 0.899689277353 \n"
     ]
    }
   ],
   "source": [
    "my_nn.train(period= 15000,error_period=5000,l_rate= 0.5)"
   ]
  },
  {
   "cell_type": "markdown",
   "metadata": {},
   "source": [
    "#Let's test our Neural Network with our digits"
   ]
  },
  {
   "cell_type": "code",
   "execution_count": 73,
   "metadata": {
    "collapsed": false
   },
   "outputs": [
    {
     "name": "stdout",
     "output_type": "stream",
     "text": [
      "Input :0 || Neural Network Output:0\n",
      "Input :1 || Neural Network Output:1\n",
      "Input :2 || Neural Network Output:2\n",
      "Input :3 || Neural Network Output:3\n",
      "Input :4 || Neural Network Output:4\n",
      "Input :5 || Neural Network Output:5\n",
      "Input :6 || Neural Network Output:6\n",
      "Input :7 || Neural Network Output:7\n",
      "Input :8 || Neural Network Output:8\n",
      "Input :9 || Neural Network Output:9\n"
     ]
    }
   ],
   "source": [
    "#Take inputs/digits let's check what our N.N. predicts\n",
    "for j in range(10):\n",
    "    number = np.argmax(np.array(my_nn.predict(inputs[j])))\n",
    "    print(\"Input :\" + str(j) + \" \" + \"|| Neural Network Output:\" + str(number))"
   ]
  },
  {
   "cell_type": "markdown",
   "metadata": {
    "collapsed": true
   },
   "source": [
    "#Our Neural Network has learned the input digits\n",
    "We could look into the weights to understand what's going on. Also, we should somehow test the neural network with other (customized) digits as a more stressing testing."
   ]
  },
  {
   "cell_type": "markdown",
   "metadata": {},
   "source": [
    "#Neuron Weights\n",
    "We could look into the weights to understand what's going on. Also, we should somehow test the neural network with other (customized) digits as a more stressing testing."
   ]
  },
  {
   "cell_type": "markdown",
   "metadata": {},
   "source": []
  },
  {
   "cell_type": "code",
   "execution_count": 85,
   "metadata": {
    "collapsed": false
   },
   "outputs": [],
   "source": [
    "from matplotlib import pyplot as plt\n",
    "import matplotlib\n",
    "#%matplotlib inline"
   ]
  },
  {
   "cell_type": "code",
   "execution_count": 29,
   "metadata": {
    "collapsed": false
   },
   "outputs": [],
   "source": [
    "weights =  network[0][0];\n",
    "#get the absolute values of weights\n",
    "abs_weights =  map(abs,weights);\n"
   ]
  },
  {
   "cell_type": "code",
   "execution_count": 87,
   "metadata": {
    "collapsed": false
   },
   "outputs": [
    {
     "data": {
      "text/plain": [
       "<matplotlib.text.Text at 0x10a7e4290>"
      ]
     },
     "execution_count": 87,
     "metadata": {},
     "output_type": "execute_result"
    },
    {
     "data": {
      "image/png": "[encoded data removed]",
      "text/plain": [
       "<matplotlib.figure.Figure at 0x10ade4c90>"
      ]
     },
     "metadata": {},
     "output_type": "display_data"
    }
   ],
   "source": [
    "grid = [abs_weights[row:(row+5)] for row in range(0,25,5)]\n",
    "ax = plt.gca();\n",
    "ax.imshow(grid,cmap = matplotlib.cm.binary, interpolation = 'none')\n",
    "\n",
    "def patch(x,y,hatch,color):\n",
    "    \"\"\"return a pathc object with the specified location,crosshatch, and color\"\"\"\n",
    "    return matplotlib.patches.Rectangle((x-0.5,y-0.5),1,1,hatch = hatch,fill=False,color =color);\n"
   ]
  },
  {
   "cell_type": "code",
   "execution_count": 31,
   "metadata": {
    "collapsed": true
   },
   "outputs": [],
   "source": [
    "for i in range(5):\n",
    "    for j in range(5):\n",
    "        if weights[5*i + j] < 0:\n",
    "            ax.add_patch(patch(j,i,'/','white'))\n",
    "            ax.add_patch(patch(j,i,'\\\\','black'))\n",
    "            \n",
    "    plt.show();\n"
   ]
  },
  {
   "cell_type": "code",
   "execution_count": 96,
   "metadata": {
    "collapsed": false
   },
   "outputs": [
    {
     "data": {
      "image/png": "[encoded data removed]",
      "text/plain": [
       "<matplotlib.figure.Figure at 0x10a555f50>"
      ]
     },
     "metadata": {},
     "output_type": "display_data"
    },
    {
     "data": {
      "image/png": "[encoded data removed]",
      "text/plain": [
       "<matplotlib.figure.Figure at 0x10b8a7b90>"
      ]
     },
     "metadata": {},
     "output_type": "display_data"
    },
    {
     "data": {
      "image/png": "[encoded data removed]",
      "text/plain": [
       "<matplotlib.figure.Figure at 0x10c22e0d0>"
      ]
     },
     "metadata": {},
     "output_type": "display_data"
    },
    {
     "data": {
      "image/png": "[encoded data removed]",
      "text/plain": [
       "<matplotlib.figure.Figure at 0x10ff69fd0>"
      ]
     },
     "metadata": {},
     "output_type": "display_data"
    },
    {
     "data": {
      "image/png": "[encoded data removed]",
      "text/plain": [
       "<matplotlib.figure.Figure at 0x10c1600d0>"
      ]
     },
     "metadata": {},
     "output_type": "display_data"
    },
    {
     "data": {
      "image/png": "[encoded data removed]",
      "text/plain": [
       "<matplotlib.figure.Figure at 0x10a562a90>"
      ]
     },
     "metadata": {},
     "output_type": "display_data"
    },
    {
     "data": {
      "image/png": "[encoded data removed]",
      "text/plain": [
       "<matplotlib.figure.Figure at 0x10ade42d0>"
      ]
     },
     "metadata": {},
     "output_type": "display_data"
    },
    {
     "data": {
      "image/png": "[encoded data removed]",
      "text/plain": [
       "<matplotlib.figure.Figure at 0x10a7922d0>"
      ]
     },
     "metadata": {},
     "output_type": "display_data"
    },
    {
     "data": {
      "image/png": "[encoded data removed]",
      "text/plain": [
       "<matplotlib.figure.Figure at 0x10ae26890>"
      ]
     },
     "metadata": {},
     "output_type": "display_data"
    },
    {
     "data": {
      "image/png": "[encoded data removed]",
      "text/plain": [
       "<matplotlib.figure.Figure at 0x10a5410d0>"
      ]
     },
     "metadata": {},
     "output_type": "display_data"
    },
    {
     "data": {
      "image/png": "[encoded data removed]",
      "text/plain": [
       "<matplotlib.figure.Figure at 0x10a509250>"
      ]
     },
     "metadata": {},
     "output_type": "display_data"
    },
    {
     "data": {
      "image/png": "[encoded data removed]",
      "text/plain": [
       "<matplotlib.figure.Figure at 0x106d82ad0>"
      ]
     },
     "metadata": {},
     "output_type": "display_data"
    }
   ],
   "source": [
    "num_hidden_neurons = len(network[0])\n",
    "\n",
    "def patch(x,y,hatch,color):\n",
    "    \"\"\"return a pathc object with the specified location,crosshatch, and color\"\"\"\n",
    "    return matplotlib.patches.Rectangle((x-0.5,y-0.5),1,1,hatch = hatch,fill=False,color =color);\n",
    "\n",
    "for neuron_id in range(0,num_hidden_neurons):\n",
    "    weights =  network[0][neuron_id];\n",
    "    bias = '{:4.2f}'.format(weights[-1])\n",
    "    #get the absolute values of weights\n",
    "    abs_weights =  map(abs,weights);\n",
    "    grid = [abs_weights[row:(row+5)] for row in range(0,25,5)]\n",
    "    ax = plt.gca();\n",
    "    ax.imshow(grid,cmap = matplotlib.cm.binary, interpolation = 'none')\n",
    "    plt.title(\"bias \" + bias)\n",
    "    for i in range(5):\n",
    "        for j in range(5):\n",
    "            if weights[5*i + j] < 0:\n",
    "                ax.add_patch(patch(j,i,'/','white'))\n",
    "                ax.add_patch(patch(j,i,'\\\\','black'))\n",
    "            \n",
    "    #plt.title('bias: ' + bias)\n",
    "    plt.show();\n",
    "    \n"
   ]
  },
  {
   "cell_type": "markdown",
   "metadata": {},
   "source": [
    "##Let's try other types of Number (More Stylish)\n",
    "\n",
    "The neural network learn pretty well the digits from 0 to 9 but we could to test\n",
    "the other syles of digits and see how well does the Neural network identifying\n",
    "this new styles. Let's see if we can fool the Neural Network?"
   ]
  },
  {
   "cell_type": "markdown",
   "metadata": {},
   "source": [
    "##Let's create sylish numbers Number (More Stylish)"
   ]
  },
  {
   "cell_type": "code",
   "execution_count": 54,
   "metadata": {
    "collapsed": true
   },
   "outputs": [],
   "source": [
    "#Stylish three\n",
    "\"\"\"\n",
    "#####..\n",
    ".....#.\n",
    "......#\n",
    "######.\n",
    "......#\n",
    ".....#.\n",
    "#####..\n",
    "\n",
    "\n",
    "\"\"\"\n",
    "\n",
    "\n",
    "three_digit = [1,1,1,1,1,0,0,\n",
    "               0,0,0,0,0,1,0,\n",
    "               0,0,0,0,0,0,1,\n",
    "               1,1,1,1,1,1,0,\n",
    "               0,0,0,0,0,0,1,\n",
    "               0,0,0,0,0,1,0,\n",
    "               1,1,1,1,1,0,0]\n",
    "\n",
    "\n",
    "\n",
    "\n",
    "#sStylsh eight\n",
    "\n",
    "\n",
    "\"\"\"\n",
    "######.\n",
    "#.....#\n",
    "#.....#\n",
    ".#####.\n",
    "#.....#\n",
    "#.....#\n",
    ".#####.\n",
    "\n",
    "\"\"\"\n",
    "\n",
    "\n",
    "\n",
    "stylish_eight_digit= [0,1,1,1,1,1,0,\n",
    "                      1,0,0,0,0,0,1,\n",
    "                      1,0,0,0,0,0,1,\n",
    "                      0,1,1,1,1,1,0,\n",
    "                      1,0,0,0,0,0,1,\n",
    "                      1,0,0,0,0,0,1,\n",
    "                      0,1,1,1,1,1,0];\n",
    "\n",
    "\n"
   ]
  },
  {
   "cell_type": "markdown",
   "metadata": {},
   "source": [
    "##A function to create some noise in the input digits"
   ]
  },
  {
   "cell_type": "markdown",
   "metadata": {},
   "source": [
    "This function flips randomly some of the pixel values from 0 ->1 or viceversa"
   ]
  },
  {
   "cell_type": "code",
   "execution_count": 97,
   "metadata": {
    "collapsed": false
   },
   "outputs": [],
   "source": [
    "from random import randrange;\n",
    "\n",
    "def my__distortion(data,n_flops=1):\n",
    "    #data contains pixels\n",
    "    #n_flops number of trials for flopping\n",
    "    _n_flops =0;\n",
    "    \n",
    "    size = len(data);\n",
    "\n",
    "#    random_index = randrange(0,size)\n",
    "    \n",
    "    for i in range(n_flops):\n",
    "        #randomly select index (pixel) to be flopped\n",
    "        random_index = randrange(0,size)\n",
    "        #get value of pixel target\n",
    "        val = data[random_index]\n",
    "        \n",
    "        #flop its value\n",
    "        if val == 1:\n",
    "            val= 0;\n",
    "        elif val == 0 :\n",
    "            val = 1;\n",
    "        \n",
    "        #add it to the digit number pixel grid\n",
    "        data[random_index] = val;\n",
    "    \n",
    "    #return noise digit\n",
    "    return data ; \n",
    "        "
   ]
  },
  {
   "cell_type": "markdown",
   "metadata": {},
   "source": [
    "##Use my__distortion to create a new set of inputs for training"
   ]
  },
  {
   "cell_type": "code",
   "execution_count": 48,
   "metadata": {
    "collapsed": false
   },
   "outputs": [],
   "source": [
    "\n",
    "#number epochs to generate new inputs\n",
    "\n",
    "# let's create a new larger set of input digits with some noise:\n",
    "epochs= 2;\n",
    "new_inputs=[];\n",
    "new_targets = [];\n",
    "for __ in range(epochs):\n",
    "    _trial_flops= __\n",
    "    for _input,_target in zip(inputs,targets):\n",
    "        _new_input = my__distortion(list(_input),_trial_flops);\n",
    "        new_inputs.append(_new_input);\n",
    "        new_targets.append(_target);"
   ]
  },
  {
   "cell_type": "markdown",
   "metadata": {},
   "source": [
    "## Ok let's create a new untrained random network inputs "
   ]
  },
  {
   "cell_type": "code",
   "execution_count": 49,
   "metadata": {
    "collapsed": true
   },
   "outputs": [],
   "source": [
    "#inputs= new_inputs;\n",
    "#targets = new_targets\n",
    "\n",
    "#each hiddeneuron has one weight per input and a bias\n",
    "\n",
    "hidden_layer =[[np.random.random() for __ in range(input_size +1)]\n",
    "               for __ in range(num_hidden)]\n",
    "\n",
    "output_layer = [[np.random.random() for __ in range(num_hidden + 1)] for __ in range(output_size)]\n",
    "network = [hidden_layer,output_layer]"
   ]
  },
  {
   "cell_type": "markdown",
   "metadata": {},
   "source": [
    "## Ok initialize a new Random Network"
   ]
  },
  {
   "cell_type": "code",
   "execution_count": 50,
   "metadata": {
    "collapsed": true
   },
   "outputs": [],
   "source": [
    "my_nn = dense_nn(new_inputs,new_targets, network,activation ='sigmoid')"
   ]
  },
  {
   "cell_type": "markdown",
   "metadata": {},
   "source": [
    "## Let's train it with new set of noisy inputs"
   ]
  },
  {
   "cell_type": "code",
   "execution_count": 51,
   "metadata": {
    "collapsed": false
   },
   "outputs": [
    {
     "name": "stdout",
     "output_type": "stream",
     "text": [
      "loop :0 || Error : 8070.20367747 \n",
      "loop :5000 || Error : 0.0496741816676 \n",
      "loop :10000 || Error : 0.464501404675 \n",
      "************Training Success***********************\n",
      "160.360807896\n",
      "done\n"
     ]
    }
   ],
   "source": [
    "start = time.time()\n",
    "\n",
    "end = time.time()\n",
    "my_nn.train(period= 15000,error_period=5000,l_rate= 0.5)\n",
    "\n",
    "end = time.time()\n",
    "print(end - start)\n",
    "print(\"done\")"
   ]
  },
  {
   "cell_type": "markdown",
   "metadata": {},
   "source": [
    "## Let's test it on our ideal input digits"
   ]
  },
  {
   "cell_type": "code",
   "execution_count": 98,
   "metadata": {
    "collapsed": false
   },
   "outputs": [
    {
     "name": "stdout",
     "output_type": "stream",
     "text": [
      "Input :0 || Neural Network Output:0\n",
      "Input :1 || Neural Network Output:1\n",
      "Input :2 || Neural Network Output:2\n",
      "Input :3 || Neural Network Output:3\n",
      "Input :4 || Neural Network Output:4\n",
      "Input :5 || Neural Network Output:5\n",
      "Input :6 || Neural Network Output:6\n",
      "Input :7 || Neural Network Output:7\n",
      "Input :8 || Neural Network Output:8\n",
      "Input :9 || Neural Network Output:9\n"
     ]
    }
   ],
   "source": [
    "for j in range(10):\n",
    "    number = np.argmax(np.array(my_nn.predict(inputs[j])))\n",
    "    print(\"Input :\" + str(j) + \" \" + \"|| Neural Network Output:\" + str(number))"
   ]
  },
  {
   "cell_type": "markdown",
   "metadata": {},
   "source": [
    "## Perfect Recognition ! We can try different to test it with our Stylish number!\n",
    "## Let's try the stylish 3"
   ]
  },
  {
   "cell_type": "code",
   "execution_count": 56,
   "metadata": {
    "collapsed": false
   },
   "outputs": [
    {
     "data": {
      "text/plain": [
       "[1.468497948084538e-12,\n",
       " 2.788044490669417e-05,\n",
       " 0.984589956345747,\n",
       " 0.6232056158020536,\n",
       " 7.584433498051789e-11,\n",
       " 1.9823131176672e-05,\n",
       " 2.232492101036345e-06,\n",
       " 3.3912075390175796e-07,\n",
       " 0.00015040887632459683,\n",
       " 0.809152450987307]"
      ]
     },
     "execution_count": 56,
     "metadata": {},
     "output_type": "execute_result"
    }
   ],
   "source": [
    "my_nn.predict(three_digit)"
   ]
  },
  {
   "cell_type": "markdown",
   "metadata": {},
   "source": [
    "## It is telling me it most likely 3 but also possibly a 9"
   ]
  },
  {
   "cell_type": "code",
   "execution_count": 66,
   "metadata": {
    "collapsed": false
   },
   "outputs": [],
   "source": [
    "noisy_stylish_eight = my__distortion(list(stylish_eight_digit),10);"
   ]
  },
  {
   "cell_type": "markdown",
   "metadata": {},
   "source": [
    "## What if we toss it the stylish 8"
   ]
  },
  {
   "cell_type": "code",
   "execution_count": 74,
   "metadata": {
    "collapsed": false
   },
   "outputs": [
    {
     "data": {
      "text/plain": [
       "[8.085289439456303e-12,\n",
       " 0.005632298852198417,\n",
       " 0.010618782107724493,\n",
       " 3.7759585461269884e-07,\n",
       " 0.0006207883699165687,\n",
       " 7.019113617485829e-07,\n",
       " 0.0727179247527005,\n",
       " 2.475473926725756e-08,\n",
       " 0.954278092464922,\n",
       " 0.00019266640423279955]"
      ]
     },
     "execution_count": 74,
     "metadata": {},
     "output_type": "execute_result"
    }
   ],
   "source": [
    "my_nn.predict(noisy_stylish_eight)"
   ]
  },
  {
   "cell_type": "markdown",
   "metadata": {},
   "source": [
    "## IT tells me it is 8, Not Bad!"
   ]
  },
  {
   "cell_type": "code",
   "execution_count": null,
   "metadata": {
    "collapsed": true
   },
   "outputs": [],
   "source": []
  }
 ],
 "metadata": {
  "kernelspec": {
   "display_name": "Python 2",
   "language": "python",
   "name": "python2"
  },
  "language_info": {
   "codemirror_mode": {
    "name": "ipython",
    "version": 2
   },
   "file_extension": ".py",
   "mimetype": "text/x-python",
   "name": "python",
   "nbconvert_exporter": "python",
   "pygments_lexer": "ipython2",
   "version": "2.7.11"
  }
 },
 "nbformat": 4,
 "nbformat_minor": 0
}
